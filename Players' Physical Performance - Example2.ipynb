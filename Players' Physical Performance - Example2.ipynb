{
 "cells": [
  {
   "cell_type": "code",
   "execution_count": 1,
   "metadata": {},
   "outputs": [],
   "source": [
    "import Metrica_IO as mio\n",
    "import Metrica_Vizuals as miz\n",
    "import Metrica_Velocities as mvel\n",
    "import Physical_Performace as pp\n",
    "import numpy as np\n",
    "import pandas as pd\n",
    "import matplotlib.pyplot as plt\n",
    "import warnings\n",
    "warnings.simplefilter(action='ignore', category=FutureWarning)"
   ]
  },
  {
   "cell_type": "code",
   "execution_count": 2,
   "metadata": {},
   "outputs": [
    {
     "name": "stdout",
     "output_type": "stream",
     "text": [
      "Reading team: home\n",
      "Reading team: away\n"
     ]
    }
   ],
   "source": [
    "DATA_DIR=r'C:\\Users\\User\\Desktop\\FootballAnalysis\\sample-data-master'\n",
    "game_id=2\n",
    "team_1=\"Home\"\n",
    "team_2=\"Away\"\n",
    "\n",
    "#Reading Event & Tracking Data\n",
    "# StartFrame in event data is sychnronized-aligned with index in tracking data\n",
    "event=mio.read_event_data(DATA_DIR,game_id)\n",
    "\n",
    "event=mio.transform_coord_system(event)\n",
    "\n",
    "tracking_home=mio.read_tracking_data(DATA_DIR,game_id,team_1)\n",
    "tracking_away=mio.read_tracking_data(DATA_DIR,game_id,team_2)\n",
    "\n",
    "tracking_away=mio.transform_coord_system(tracking_away)\n",
    "tracking_home=mio.transform_coord_system(tracking_home)\n"
   ]
  },
  {
   "cell_type": "code",
   "execution_count": 3,
   "metadata": {},
   "outputs": [],
   "source": [
    "#Reverse directions such that the home team is always attacking from left to right\n",
    "# DEFAULT COLORS: Home Team: Black, Away Team: Red \n",
    "event,tracking_home,tracking_away=mio.set_single_playing_direction(event,tracking_home,tracking_away)"
   ]
  },
  {
   "cell_type": "markdown",
   "metadata": {},
   "source": [
    "### Calculating Players' velocities based on Tracking Data"
   ]
  },
  {
   "cell_type": "code",
   "execution_count": 4,
   "metadata": {},
   "outputs": [
    {
     "name": "stdout",
     "output_type": "stream",
     "text": [
      "Calculating velocities for:  Home\n",
      "Calculating velocities for:  Away\n"
     ]
    }
   ],
   "source": [
    "# Add players velocities into the tracking data DataFrame\n",
    "#Smoothing via moving average is set to True by Default.\n",
    "\n",
    "tracking_home=mvel.calc_player_velocities(tracking_home)\n",
    "tracking_away=mvel.calc_player_velocities(tracking_away)"
   ]
  },
  {
   "cell_type": "markdown",
   "metadata": {},
   "source": [
    "### Plotting Frame with Players' Velocities"
   ]
  },
  {
   "cell_type": "code",
   "execution_count": 5,
   "metadata": {},
   "outputs": [
    {
     "data": {
      "image/png": "[encoded data removed]",
      "text/plain": [
       "<Figure size 720x576 with 1 Axes>"
      ]
     },
     "metadata": {
      "needs_background": "light"
     },
     "output_type": "display_data"
    }
   ],
   "source": [
    "# Set include_player_velocities to True\n",
    "miz.plot_frame(tracking_home.loc[20000],tracking_away.loc[20000],include_player_velocities=True,annotate_player=True);\n",
    "'''\n",
    "We can clearly see the Home Team (Black color), trying to set an attack to score a goal. In this frame, it seems like a\n",
    "counter-attack , as the Player-25 (goalkeeperof Away Team) is far outside their goal area and\n",
    "most of the players of the Home Team are behind the center line (previously defending positions). Player 8 has position\n",
    "of the ball.\n",
    "''';"
   ]
  },
  {
   "cell_type": "markdown",
   "metadata": {},
   "source": [
    "### Make a movie and save it in PLOTDIR directory"
   ]
  },
  {
   "cell_type": "code",
   "execution_count": 7,
   "metadata": {},
   "outputs": [
    {
     "name": "stdout",
     "output_type": "stream",
     "text": [
      "Generating movie..\n",
      "Wait...\n",
      "Ready\n"
     ]
    }
   ],
   "source": [
    "PLOT_DIR=DATA_DIR+\"\\movies\"\n",
    "\n",
    "'''\n",
    "Give this function a moment to generate the movie.\n",
    "'''\n",
    "\n",
    "# Saves Movie with Velocity - Home Goal at minute 49.\n",
    "miz.save_movie(tracking_home.iloc[73600:73600+500],tracking_away.iloc[73600:73600+500],PLOT_DIR,\n",
    "               file_name=\"Home_Goal_Vel_Smooth\",include_player_velocities=True)"
   ]
  },
  {
   "cell_type": "code",
   "execution_count": 8,
   "metadata": {},
   "outputs": [
    {
     "name": "stdout",
     "output_type": "stream",
     "text": [
      "Generating movie..\n",
      "Wait...\n",
      "Ready\n"
     ]
    }
   ],
   "source": [
    "# Saves Movie with Velocity - Away Goal at minute 35.\n",
    "miz.save_movie(tracking_home.iloc[52590:52590+650],tracking_away.iloc[52590:52590+650],PLOT_DIR,\n",
    "               file_name=\"Away_goal_Vel_Smooth\",include_player_velocities=True)\n"
   ]
  },
  {
   "cell_type": "markdown",
   "metadata": {},
   "source": [
    "### Calculating summary performance metrics for each player"
   ]
  },
  {
   "cell_type": "code",
   "execution_count": 10,
   "metadata": {},
   "outputs": [],
   "source": [
    "# Get players summary for home and away teams\n",
    "home_summary=pp.get_players_summary(tracking_home)\n",
    "away_summary=pp.get_players_summary(tracking_away)"
   ]
  },
  {
   "cell_type": "markdown",
   "metadata": {},
   "source": [
    "If we take a look at the 87985 index (Frame) in the Tracking Data for the Away Team we can see that \n",
    "Player 22 and 26 have the same position in the pitch. These are the first coordinates for Player 26 and last\n",
    "for Player 22 since there has been a SUBSTITUTION between them.\n",
    "That can be spotted from the above table and especially in Minutes Played field.\n",
    "\n",
    "**Minutes Played of 22 + Minutes Played of 26 = 94.1033**"
   ]
  },
  {
   "cell_type": "code",
   "execution_count": 14,
   "metadata": {
    "scrolled": false
   },
   "outputs": [
    {
     "data": {
      "text/html": [
       "<div>\n",
       "<style scoped>\n",
       "    .dataframe tbody tr th:only-of-type {\n",
       "        vertical-align: middle;\n",
       "    }\n",
       "\n",
       "    .dataframe tbody tr th {\n",
       "        vertical-align: top;\n",
       "    }\n",
       "\n",
       "    .dataframe thead th {\n",
       "        text-align: right;\n",
       "    }\n",
       "</style>\n",
       "<table border=\"1\" class=\"dataframe\">\n",
       "  <thead>\n",
       "    <tr style=\"text-align: right;\">\n",
       "      <th></th>\n",
       "      <th>Minutes Played</th>\n",
       "      <th>Distance (km)</th>\n",
       "      <th>Walking (km)</th>\n",
       "      <th>Jogging (km)</th>\n",
       "      <th>Running (km)</th>\n",
       "      <th>Sprinting (km)</th>\n",
       "      <th># of Sprints</th>\n",
       "    </tr>\n",
       "  </thead>\n",
       "  <tbody>\n",
       "    <tr>\n",
       "      <th>Away_15</th>\n",
       "      <td>94.1033</td>\n",
       "      <td>10.0637</td>\n",
       "      <td>4.06421</td>\n",
       "      <td>3.82066</td>\n",
       "      <td>2.1156</td>\n",
       "      <td>0.0631871</td>\n",
       "      <td>3</td>\n",
       "    </tr>\n",
       "    <tr>\n",
       "      <th>Away_16</th>\n",
       "      <td>94.1033</td>\n",
       "      <td>9.49196</td>\n",
       "      <td>3.75801</td>\n",
       "      <td>4.44272</td>\n",
       "      <td>1.22731</td>\n",
       "      <td>0.0639281</td>\n",
       "      <td>4</td>\n",
       "    </tr>\n",
       "    <tr>\n",
       "      <th>Away_17</th>\n",
       "      <td>94.1033</td>\n",
       "      <td>9.32334</td>\n",
       "      <td>4.06844</td>\n",
       "      <td>3.9628</td>\n",
       "      <td>1.20759</td>\n",
       "      <td>0.0845107</td>\n",
       "      <td>3</td>\n",
       "    </tr>\n",
       "    <tr>\n",
       "      <th>Away_18</th>\n",
       "      <td>94.1033</td>\n",
       "      <td>10.3941</td>\n",
       "      <td>3.77153</td>\n",
       "      <td>4.36522</td>\n",
       "      <td>2.05209</td>\n",
       "      <td>0.205214</td>\n",
       "      <td>11</td>\n",
       "    </tr>\n",
       "    <tr>\n",
       "      <th>Away_19</th>\n",
       "      <td>94.1033</td>\n",
       "      <td>11.1546</td>\n",
       "      <td>3.65751</td>\n",
       "      <td>4.78563</td>\n",
       "      <td>2.56309</td>\n",
       "      <td>0.148424</td>\n",
       "      <td>8</td>\n",
       "    </tr>\n",
       "    <tr>\n",
       "      <th>Away_20</th>\n",
       "      <td>94.1033</td>\n",
       "      <td>10.8552</td>\n",
       "      <td>3.35297</td>\n",
       "      <td>5.29891</td>\n",
       "      <td>2.17585</td>\n",
       "      <td>0.0274533</td>\n",
       "      <td>1</td>\n",
       "    </tr>\n",
       "    <tr>\n",
       "      <th>Away_21</th>\n",
       "      <td>94.1033</td>\n",
       "      <td>10.0347</td>\n",
       "      <td>3.83955</td>\n",
       "      <td>4.43153</td>\n",
       "      <td>1.70478</td>\n",
       "      <td>0.0588208</td>\n",
       "      <td>3</td>\n",
       "    </tr>\n",
       "    <tr>\n",
       "      <th>Away_22</th>\n",
       "      <td>58.656</td>\n",
       "      <td>6.3626</td>\n",
       "      <td>2.49719</td>\n",
       "      <td>2.52556</td>\n",
       "      <td>1.19758</td>\n",
       "      <td>0.142267</td>\n",
       "      <td>8</td>\n",
       "    </tr>\n",
       "    <tr>\n",
       "      <th>Away_23</th>\n",
       "      <td>94.1033</td>\n",
       "      <td>9.66031</td>\n",
       "      <td>3.9289</td>\n",
       "      <td>3.39318</td>\n",
       "      <td>2.17756</td>\n",
       "      <td>0.160678</td>\n",
       "      <td>10</td>\n",
       "    </tr>\n",
       "    <tr>\n",
       "      <th>Away_24</th>\n",
       "      <td>94.1033</td>\n",
       "      <td>9.91336</td>\n",
       "      <td>3.78949</td>\n",
       "      <td>4.01068</td>\n",
       "      <td>1.9423</td>\n",
       "      <td>0.170883</td>\n",
       "      <td>8</td>\n",
       "    </tr>\n",
       "    <tr>\n",
       "      <th>Away_25</th>\n",
       "      <td>94.1033</td>\n",
       "      <td>3.59458</td>\n",
       "      <td>3.1005</td>\n",
       "      <td>0.426203</td>\n",
       "      <td>0.0622338</td>\n",
       "      <td>0.00564569</td>\n",
       "      <td>0</td>\n",
       "    </tr>\n",
       "    <tr>\n",
       "      <th>Away_26</th>\n",
       "      <td>35.4473</td>\n",
       "      <td>3.76133</td>\n",
       "      <td>1.38433</td>\n",
       "      <td>1.34477</td>\n",
       "      <td>0.869496</td>\n",
       "      <td>0.162734</td>\n",
       "      <td>6</td>\n",
       "    </tr>\n",
       "  </tbody>\n",
       "</table>\n",
       "</div>"
      ],
      "text/plain": [
       "        Minutes Played Distance (km) Walking (km) Jogging (km) Running (km)  \\\n",
       "Away_15        94.1033       10.0637      4.06421      3.82066       2.1156   \n",
       "Away_16        94.1033       9.49196      3.75801      4.44272      1.22731   \n",
       "Away_17        94.1033       9.32334      4.06844       3.9628      1.20759   \n",
       "Away_18        94.1033       10.3941      3.77153      4.36522      2.05209   \n",
       "Away_19        94.1033       11.1546      3.65751      4.78563      2.56309   \n",
       "Away_20        94.1033       10.8552      3.35297      5.29891      2.17585   \n",
       "Away_21        94.1033       10.0347      3.83955      4.43153      1.70478   \n",
       "Away_22         58.656        6.3626      2.49719      2.52556      1.19758   \n",
       "Away_23        94.1033       9.66031       3.9289      3.39318      2.17756   \n",
       "Away_24        94.1033       9.91336      3.78949      4.01068       1.9423   \n",
       "Away_25        94.1033       3.59458       3.1005     0.426203    0.0622338   \n",
       "Away_26        35.4473       3.76133      1.38433      1.34477     0.869496   \n",
       "\n",
       "        Sprinting (km) # of Sprints  \n",
       "Away_15      0.0631871            3  \n",
       "Away_16      0.0639281            4  \n",
       "Away_17      0.0845107            3  \n",
       "Away_18       0.205214           11  \n",
       "Away_19       0.148424            8  \n",
       "Away_20      0.0274533            1  \n",
       "Away_21      0.0588208            3  \n",
       "Away_22       0.142267            8  \n",
       "Away_23       0.160678           10  \n",
       "Away_24       0.170883            8  \n",
       "Away_25     0.00564569            0  \n",
       "Away_26       0.162734            6  "
      ]
     },
     "execution_count": 14,
     "metadata": {},
     "output_type": "execute_result"
    }
   ],
   "source": [
    "away_summary"
   ]
  },
  {
   "cell_type": "code",
   "execution_count": 16,
   "metadata": {},
   "outputs": [
    {
     "data": {
      "text/html": [
       "<div>\n",
       "<style scoped>\n",
       "    .dataframe tbody tr th:only-of-type {\n",
       "        vertical-align: middle;\n",
       "    }\n",
       "\n",
       "    .dataframe tbody tr th {\n",
       "        vertical-align: top;\n",
       "    }\n",
       "\n",
       "    .dataframe thead th {\n",
       "        text-align: right;\n",
       "    }\n",
       "</style>\n",
       "<table border=\"1\" class=\"dataframe\">\n",
       "  <thead>\n",
       "    <tr style=\"text-align: right;\">\n",
       "      <th></th>\n",
       "      <th>Away_22_x</th>\n",
       "      <th>Away_22_y</th>\n",
       "      <th>Away_26_x</th>\n",
       "      <th>Away_26_y</th>\n",
       "    </tr>\n",
       "    <tr>\n",
       "      <th>Frame</th>\n",
       "      <th></th>\n",
       "      <th></th>\n",
       "      <th></th>\n",
       "      <th></th>\n",
       "    </tr>\n",
       "  </thead>\n",
       "  <tbody>\n",
       "    <tr>\n",
       "      <th>87984</th>\n",
       "      <td>-1.83168</td>\n",
       "      <td>-34.07412</td>\n",
       "      <td>NaN</td>\n",
       "      <td>NaN</td>\n",
       "    </tr>\n",
       "    <tr>\n",
       "      <th>87985</th>\n",
       "      <td>-1.81154</td>\n",
       "      <td>-34.06528</td>\n",
       "      <td>-1.81154</td>\n",
       "      <td>-34.06528</td>\n",
       "    </tr>\n",
       "    <tr>\n",
       "      <th>87986</th>\n",
       "      <td>NaN</td>\n",
       "      <td>NaN</td>\n",
       "      <td>-1.79352</td>\n",
       "      <td>-34.05712</td>\n",
       "    </tr>\n",
       "  </tbody>\n",
       "</table>\n",
       "</div>"
      ],
      "text/plain": [
       "       Away_22_x  Away_22_y  Away_26_x  Away_26_y\n",
       "Frame                                            \n",
       "87984   -1.83168  -34.07412        NaN        NaN\n",
       "87985   -1.81154  -34.06528   -1.81154  -34.06528\n",
       "87986        NaN        NaN   -1.79352  -34.05712"
      ]
     },
     "execution_count": 16,
     "metadata": {},
     "output_type": "execute_result"
    }
   ],
   "source": [
    "tracking_away.loc[87984:87986,[\"Away_22_x\",\"Away_22_y\",\"Away_26_x\",\"Away_26_y\"]]"
   ]
  },
  {
   "cell_type": "markdown",
   "metadata": {},
   "source": [
    "3 SUBSTITUTIONS occured in Home Team between Players **10 & 14 , 13 & 8 , 12 & 4**."
   ]
  },
  {
   "cell_type": "code",
   "execution_count": 13,
   "metadata": {},
   "outputs": [
    {
     "data": {
      "text/html": [
       "<div>\n",
       "<style scoped>\n",
       "    .dataframe tbody tr th:only-of-type {\n",
       "        vertical-align: middle;\n",
       "    }\n",
       "\n",
       "    .dataframe tbody tr th {\n",
       "        vertical-align: top;\n",
       "    }\n",
       "\n",
       "    .dataframe thead th {\n",
       "        text-align: right;\n",
       "    }\n",
       "</style>\n",
       "<table border=\"1\" class=\"dataframe\">\n",
       "  <thead>\n",
       "    <tr style=\"text-align: right;\">\n",
       "      <th></th>\n",
       "      <th>Minutes Played</th>\n",
       "      <th>Distance (km)</th>\n",
       "      <th>Walking (km)</th>\n",
       "      <th>Jogging (km)</th>\n",
       "      <th>Running (km)</th>\n",
       "      <th>Sprinting (km)</th>\n",
       "      <th># of Sprints</th>\n",
       "    </tr>\n",
       "  </thead>\n",
       "  <tbody>\n",
       "    <tr>\n",
       "      <th>Home_1</th>\n",
       "      <td>94.1033</td>\n",
       "      <td>10.3828</td>\n",
       "      <td>3.70331</td>\n",
       "      <td>4.43523</td>\n",
       "      <td>2.15807</td>\n",
       "      <td>0.0862124</td>\n",
       "      <td>5</td>\n",
       "    </tr>\n",
       "    <tr>\n",
       "      <th>Home_10</th>\n",
       "      <td>83.8247</td>\n",
       "      <td>8.96821</td>\n",
       "      <td>3.85879</td>\n",
       "      <td>3.43149</td>\n",
       "      <td>1.4089</td>\n",
       "      <td>0.269032</td>\n",
       "      <td>14</td>\n",
       "    </tr>\n",
       "    <tr>\n",
       "      <th>Home_11</th>\n",
       "      <td>94.1033</td>\n",
       "      <td>5.21521</td>\n",
       "      <td>4.40042</td>\n",
       "      <td>0.781947</td>\n",
       "      <td>0.0303767</td>\n",
       "      <td>0.00246188</td>\n",
       "      <td>0</td>\n",
       "    </tr>\n",
       "    <tr>\n",
       "      <th>Home_12</th>\n",
       "      <td>30.302</td>\n",
       "      <td>3.03775</td>\n",
       "      <td>1.14202</td>\n",
       "      <td>1.03307</td>\n",
       "      <td>0.820622</td>\n",
       "      <td>0.0420428</td>\n",
       "      <td>2</td>\n",
       "    </tr>\n",
       "    <tr>\n",
       "      <th>Home_13</th>\n",
       "      <td>23.3633</td>\n",
       "      <td>2.37232</td>\n",
       "      <td>0.874639</td>\n",
       "      <td>0.858968</td>\n",
       "      <td>0.582351</td>\n",
       "      <td>0.0563609</td>\n",
       "      <td>2</td>\n",
       "    </tr>\n",
       "    <tr>\n",
       "      <th>Home_14</th>\n",
       "      <td>10.2787</td>\n",
       "      <td>1.08412</td>\n",
       "      <td>0.437078</td>\n",
       "      <td>0.402657</td>\n",
       "      <td>0.235202</td>\n",
       "      <td>0.0091825</td>\n",
       "      <td>0</td>\n",
       "    </tr>\n",
       "    <tr>\n",
       "      <th>Home_2</th>\n",
       "      <td>94.1033</td>\n",
       "      <td>9.85621</td>\n",
       "      <td>4.08531</td>\n",
       "      <td>4.07035</td>\n",
       "      <td>1.61682</td>\n",
       "      <td>0.0837362</td>\n",
       "      <td>3</td>\n",
       "    </tr>\n",
       "    <tr>\n",
       "      <th>Home_3</th>\n",
       "      <td>94.1033</td>\n",
       "      <td>9.55652</td>\n",
       "      <td>4.17785</td>\n",
       "      <td>3.83553</td>\n",
       "      <td>1.38936</td>\n",
       "      <td>0.153776</td>\n",
       "      <td>8</td>\n",
       "    </tr>\n",
       "    <tr>\n",
       "      <th>Home_4</th>\n",
       "      <td>63.8013</td>\n",
       "      <td>7.18196</td>\n",
       "      <td>2.65667</td>\n",
       "      <td>3.25244</td>\n",
       "      <td>1.25851</td>\n",
       "      <td>0.0143299</td>\n",
       "      <td>0</td>\n",
       "    </tr>\n",
       "    <tr>\n",
       "      <th>Home_5</th>\n",
       "      <td>94.1033</td>\n",
       "      <td>11.9147</td>\n",
       "      <td>3.58398</td>\n",
       "      <td>4.65857</td>\n",
       "      <td>3.52092</td>\n",
       "      <td>0.151272</td>\n",
       "      <td>8</td>\n",
       "    </tr>\n",
       "    <tr>\n",
       "      <th>Home_6</th>\n",
       "      <td>94.1033</td>\n",
       "      <td>11.5464</td>\n",
       "      <td>3.3866</td>\n",
       "      <td>5.14308</td>\n",
       "      <td>2.83827</td>\n",
       "      <td>0.178445</td>\n",
       "      <td>7</td>\n",
       "    </tr>\n",
       "    <tr>\n",
       "      <th>Home_7</th>\n",
       "      <td>94.1033</td>\n",
       "      <td>11.0802</td>\n",
       "      <td>3.60839</td>\n",
       "      <td>4.95704</td>\n",
       "      <td>2.3318</td>\n",
       "      <td>0.182987</td>\n",
       "      <td>9</td>\n",
       "    </tr>\n",
       "    <tr>\n",
       "      <th>Home_8</th>\n",
       "      <td>70.74</td>\n",
       "      <td>9.01754</td>\n",
       "      <td>2.60479</td>\n",
       "      <td>4.13437</td>\n",
       "      <td>2.18904</td>\n",
       "      <td>0.0893497</td>\n",
       "      <td>6</td>\n",
       "    </tr>\n",
       "    <tr>\n",
       "      <th>Home_9</th>\n",
       "      <td>94.1033</td>\n",
       "      <td>9.77569</td>\n",
       "      <td>4.42989</td>\n",
       "      <td>3.32372</td>\n",
       "      <td>1.8663</td>\n",
       "      <td>0.155785</td>\n",
       "      <td>7</td>\n",
       "    </tr>\n",
       "  </tbody>\n",
       "</table>\n",
       "</div>"
      ],
      "text/plain": [
       "        Minutes Played Distance (km) Walking (km) Jogging (km) Running (km)  \\\n",
       "Home_1         94.1033       10.3828      3.70331      4.43523      2.15807   \n",
       "Home_10        83.8247       8.96821      3.85879      3.43149       1.4089   \n",
       "Home_11        94.1033       5.21521      4.40042     0.781947    0.0303767   \n",
       "Home_12         30.302       3.03775      1.14202      1.03307     0.820622   \n",
       "Home_13        23.3633       2.37232     0.874639     0.858968     0.582351   \n",
       "Home_14        10.2787       1.08412     0.437078     0.402657     0.235202   \n",
       "Home_2         94.1033       9.85621      4.08531      4.07035      1.61682   \n",
       "Home_3         94.1033       9.55652      4.17785      3.83553      1.38936   \n",
       "Home_4         63.8013       7.18196      2.65667      3.25244      1.25851   \n",
       "Home_5         94.1033       11.9147      3.58398      4.65857      3.52092   \n",
       "Home_6         94.1033       11.5464       3.3866      5.14308      2.83827   \n",
       "Home_7         94.1033       11.0802      3.60839      4.95704       2.3318   \n",
       "Home_8           70.74       9.01754      2.60479      4.13437      2.18904   \n",
       "Home_9         94.1033       9.77569      4.42989      3.32372       1.8663   \n",
       "\n",
       "        Sprinting (km) # of Sprints  \n",
       "Home_1       0.0862124            5  \n",
       "Home_10       0.269032           14  \n",
       "Home_11     0.00246188            0  \n",
       "Home_12      0.0420428            2  \n",
       "Home_13      0.0563609            2  \n",
       "Home_14      0.0091825            0  \n",
       "Home_2       0.0837362            3  \n",
       "Home_3        0.153776            8  \n",
       "Home_4       0.0143299            0  \n",
       "Home_5        0.151272            8  \n",
       "Home_6        0.178445            7  \n",
       "Home_7        0.182987            9  \n",
       "Home_8       0.0893497            6  \n",
       "Home_9        0.155785            7  "
      ]
     },
     "execution_count": 13,
     "metadata": {},
     "output_type": "execute_result"
    }
   ],
   "source": [
    "home_summary"
   ]
  },
  {
   "cell_type": "markdown",
   "metadata": {},
   "source": [
    "### Plotting distances (km) for Away Players"
   ]
  },
  {
   "cell_type": "code",
   "execution_count": 30,
   "metadata": {},
   "outputs": [
    {
     "data": {
      "image/png": "[encoded data removed]",
      "text/plain": [
       "<Figure size 576x432 with 1 Axes>"
      ]
     },
     "metadata": {
      "needs_background": "light"
     },
     "output_type": "display_data"
    }
   ],
   "source": [
    "ax=away_summary[\"Distance (km)\"].plot(kind='barh',title=\"Away Players Distances km\",figsize=(8,6))\n",
    "ax.set_ylabel(\"Player\")\n",
    "ax.set_xlabel(\"Distance (km)\")\n",
    "plt.tight_layout()"
   ]
  },
  {
   "cell_type": "markdown",
   "metadata": {},
   "source": [
    "### Plotting distance covered at every speed for the Away Team"
   ]
  },
  {
   "cell_type": "code",
   "execution_count": 33,
   "metadata": {},
   "outputs": [
    {
     "data": {
      "image/png": "[encoded data removed]",
      "text/plain": [
       "<Figure size 720x576 with 1 Axes>"
      ]
     },
     "metadata": {
      "needs_background": "light"
     },
     "output_type": "display_data"
    }
   ],
   "source": [
    "ax=away_summary[[\"Walking (km)\",\"Jogging (km)\",\"Running (km)\",\"Sprinting (km)\"]].plot(kind='bar',\n",
    "                                                                                      colormap='Spectral',figsize=(10,8))\n",
    "ax.set_xlabel(\"Player\")\n",
    "ax.set_ylabel(\"Distance (km)\")\n",
    "ax.legend(loc='best')\n",
    "plt.tight_layout()"
   ]
  },
  {
   "cell_type": "markdown",
   "metadata": {},
   "source": [
    "### Plotting Top Speed Reached From Home Players"
   ]
  },
  {
   "cell_type": "code",
   "execution_count": 83,
   "metadata": {},
   "outputs": [
    {
     "data": {
      "image/png": "[encoded data removed]",
      "text/plain": [
       "<Figure size 576x432 with 1 Axes>"
      ]
     },
     "metadata": {
      "needs_background": "light"
     },
     "output_type": "display_data"
    }
   ],
   "source": [
    "home_player_speeds=[x for x in tracking_home.columns if \"_speed\" in x]\n",
    "top_speed=pd.DataFrame(index=home_player_speeds,columns=[\"Top Speed\"])\n",
    "\n",
    "for ps in home_player_speeds:\n",
    "    top_speed.loc[ps,\"Top Speed\"]=tracking_home[ps].max()\n",
    "\n",
    "ax=top_speed.plot(kind='bar',title=\"Top Speed Reached From Home Players (km)\",figsize=(8,6),legend=False)\n",
    "ax.set_xticklabels([x.split(\"_speed\")[0] for x in top_speed.index ])\n",
    "plt.xlabel(\"Players\")\n",
    "plt.ylabel(\"Top Speed\")\n",
    "plt.tight_layout()\n",
    "\n",
    "for p in ax.patches:\n",
    "    ax.annotate(str(round(p.get_height(),2)), (p.get_x() * 1.005, p.get_height() * 1.005))"
   ]
  },
  {
   "cell_type": "code",
   "execution_count": 48,
   "metadata": {},
   "outputs": [
    {
     "name": "stdout",
     "output_type": "stream",
     "text": [
      "Total Kilometers Run by Each Team: \n",
      "\u001b[30m Home team:  110.98968528826254\n",
      "\u001b[91m Away team:  104.60970543069749\n"
     ]
    }
   ],
   "source": [
    "home_kms=home_summary[\"Distance (km)\"].sum()\n",
    "away_kms=away_summary[\"Distance (km)\"].sum()\n",
    "print(\"Total Kilometers Run by Each Team: \")\n",
    "print(\"\\x1B[30m Home team: \",home_kms)\n",
    "print(\"\\033[91m Away team: \",away_kms)"
   ]
  },
  {
   "cell_type": "code",
   "execution_count": null,
   "metadata": {},
   "outputs": [],
   "source": []
  }
 ],
 "metadata": {
  "kernelspec": {
   "display_name": "Python [conda env:nilmtk-env] *",
   "language": "python",
   "name": "conda-env-nilmtk-env-py"
  },
  "language_info": {
   "codemirror_mode": {
    "name": "ipython",
    "version": 3
   },
   "file_extension": ".py",
   "mimetype": "text/x-python",
   "name": "python",
   "nbconvert_exporter": "python",
   "pygments_lexer": "ipython3",
   "version": "3.6.7"
  }
 },
 "nbformat": 4,
 "nbformat_minor": 4
}
